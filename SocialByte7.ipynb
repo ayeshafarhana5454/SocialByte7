{
 "cells": [
  {
   "cell_type": "code",
   "execution_count": null,
   "id": "872c3a7d",
   "metadata": {},
   "outputs": [],
   "source": [
    "SELECT\n",
    "    SQRT(POWER(B.x - A.x, 2) + POWER(B.y - A.y, 2)) AS ShortestDistance\n",
    "FROM\n",
    "    Points A,\n",
    "    Points B\n",
    "WHERE\n",
    "    A.id = 1 AND B.id = 2; -- Replace 1 and 2 with the IDs of the points you're interested in\n"
   ]
  }
 ],
 "metadata": {
  "kernelspec": {
   "display_name": "Python 3 (ipykernel)",
   "language": "python",
   "name": "python3"
  },
  "language_info": {
   "codemirror_mode": {
    "name": "ipython",
    "version": 3
   },
   "file_extension": ".py",
   "mimetype": "text/x-python",
   "name": "python",
   "nbconvert_exporter": "python",
   "pygments_lexer": "ipython3",
   "version": "3.10.9"
  }
 },
 "nbformat": 4,
 "nbformat_minor": 5
}
